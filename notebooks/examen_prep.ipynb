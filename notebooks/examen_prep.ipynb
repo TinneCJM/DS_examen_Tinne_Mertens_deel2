{
 "cells": [
  {
   "cell_type": "code",
   "execution_count": 1,
   "metadata": {},
   "outputs": [],
   "source": [
    "# Import packages\n",
    "import pandas as pd\n",
    "import numpy as np\n",
    "import matplotlib.pyplot as plt\n",
    "import os"
   ]
  },
  {
   "cell_type": "code",
   "execution_count": 2,
   "metadata": {},
   "outputs": [],
   "source": [
    "loc_input_files = os.path.join('..', 'data', 'input')\n",
    "\n",
    "dfs = list()\n",
    "for filename in os.listdir(loc_input_files):\n",
    "    df = pd.read_csv(os.path.join(loc_input_files,filename))\n",
    "    df['datum'] = filename.strip('.csv')\n",
    "    dfs.append(df)\n",
    "\n",
    "df_raw = pd.concat(dfs, ignore_index=True)\n",
    "df = df_raw.copy()"
   ]
  },
  {
   "cell_type": "code",
   "execution_count": 37,
   "metadata": {},
   "outputs": [],
   "source": [
    "def clean_df(df):\n",
    "\n",
    "    # df_wrong met verkeerde datum (29 februari)\n",
    "    outlier_datums = ['2019-2-29','2019-1-1', '2019-7-1']\n",
    "    df_wrong = df.loc[df['datum'].isin(outlier_datums)].copy()\n",
    "\n",
    "    # Verwijder rijen met verkeerde datums\n",
    "    df = df.loc[~df['datum'].isin(outlier_datums)].copy()\n",
    "    \n",
    "    df['dag van het jaar'] = pd.to_datetime(df['datum']).dt.dayofyear\n",
    "    df['verwachte datum'] = pd.to_datetime(df['verwachte datum'], format='%m/%d/%Y')# .dt.strftime('%Y-%m-%d')\n",
    "    df['datum'] = pd.to_datetime(df['datum'])# .dt.strftime('%Y-%m-%d')\n",
    "\n",
    "    categories = ['Monday', \n",
    "              'Tuesday', \n",
    "              'Wednesday', \n",
    "              'Thursday', \n",
    "              'Friday', \n",
    "              'Saturday', \n",
    "              'Sunday']\n",
    "\n",
    "    # Convert 'Day of Week' to a categorical type\n",
    "    df['weekdag'] = (pd.to_datetime(df['datum']).dt.day_name())\n",
    "    df['weekdag'] = (pd.Categorical(df['weekdag'], \n",
    "                                    categories=categories, \n",
    "                                    ordered=True))\n",
    "    \n",
    "    df['verschil_dagen'] = (df['verwachte datum'] - df['datum']).dt.days\n",
    "\n",
    "    return df, df_wrong"
   ]
  },
  {
   "cell_type": "code",
   "execution_count": 38,
   "metadata": {},
   "outputs": [],
   "source": [
    "geboortes, df_wrong = clean_df(df)"
   ]
  },
  {
   "cell_type": "code",
   "execution_count": 39,
   "metadata": {},
   "outputs": [
    {
     "data": {
      "text/html": [
       "<div>\n",
       "<style scoped>\n",
       "    .dataframe tbody tr th:only-of-type {\n",
       "        vertical-align: middle;\n",
       "    }\n",
       "\n",
       "    .dataframe tbody tr th {\n",
       "        vertical-align: top;\n",
       "    }\n",
       "\n",
       "    .dataframe thead th {\n",
       "        text-align: right;\n",
       "    }\n",
       "</style>\n",
       "<table border=\"1\" class=\"dataframe\">\n",
       "  <thead>\n",
       "    <tr style=\"text-align: right;\">\n",
       "      <th></th>\n",
       "      <th>gemeente</th>\n",
       "      <th>naam</th>\n",
       "      <th>geslacht</th>\n",
       "      <th>verwachte datum</th>\n",
       "      <th>datum</th>\n",
       "      <th>dag van het jaar</th>\n",
       "      <th>weekdag</th>\n",
       "      <th>verschil_dagen</th>\n",
       "    </tr>\n",
       "  </thead>\n",
       "  <tbody>\n",
       "    <tr>\n",
       "      <th>534</th>\n",
       "      <td>Merksplas</td>\n",
       "      <td>Liliane</td>\n",
       "      <td>Vrouwelijk</td>\n",
       "      <td>2019-01-04</td>\n",
       "      <td>2019-01-10</td>\n",
       "      <td>10</td>\n",
       "      <td>Thursday</td>\n",
       "      <td>-6</td>\n",
       "    </tr>\n",
       "    <tr>\n",
       "      <th>535</th>\n",
       "      <td>Bornem</td>\n",
       "      <td>Jeroen</td>\n",
       "      <td>Mannelijk</td>\n",
       "      <td>2019-01-10</td>\n",
       "      <td>2019-01-10</td>\n",
       "      <td>10</td>\n",
       "      <td>Thursday</td>\n",
       "      <td>0</td>\n",
       "    </tr>\n",
       "    <tr>\n",
       "      <th>536</th>\n",
       "      <td>Houthalen-Helchteren</td>\n",
       "      <td>Fatima</td>\n",
       "      <td>Vrouwelijk</td>\n",
       "      <td>2019-01-21</td>\n",
       "      <td>2019-01-10</td>\n",
       "      <td>10</td>\n",
       "      <td>Thursday</td>\n",
       "      <td>11</td>\n",
       "    </tr>\n",
       "    <tr>\n",
       "      <th>537</th>\n",
       "      <td>Lievegem</td>\n",
       "      <td>Hilaire</td>\n",
       "      <td>Mannelijk</td>\n",
       "      <td>2019-01-15</td>\n",
       "      <td>2019-01-10</td>\n",
       "      <td>10</td>\n",
       "      <td>Thursday</td>\n",
       "      <td>5</td>\n",
       "    </tr>\n",
       "    <tr>\n",
       "      <th>538</th>\n",
       "      <td>Spiere-Helkijn</td>\n",
       "      <td>Christian</td>\n",
       "      <td>Mannelijk</td>\n",
       "      <td>2019-01-16</td>\n",
       "      <td>2019-01-10</td>\n",
       "      <td>10</td>\n",
       "      <td>Thursday</td>\n",
       "      <td>6</td>\n",
       "    </tr>\n",
       "    <tr>\n",
       "      <th>...</th>\n",
       "      <td>...</td>\n",
       "      <td>...</td>\n",
       "      <td>...</td>\n",
       "      <td>...</td>\n",
       "      <td>...</td>\n",
       "      <td>...</td>\n",
       "      <td>...</td>\n",
       "      <td>...</td>\n",
       "    </tr>\n",
       "    <tr>\n",
       "      <th>116918</th>\n",
       "      <td>Lede</td>\n",
       "      <td>Lobke</td>\n",
       "      <td>Vrouwelijk</td>\n",
       "      <td>2019-09-12</td>\n",
       "      <td>2019-09-09</td>\n",
       "      <td>252</td>\n",
       "      <td>Monday</td>\n",
       "      <td>3</td>\n",
       "    </tr>\n",
       "    <tr>\n",
       "      <th>116919</th>\n",
       "      <td>Westerlo</td>\n",
       "      <td>Willem</td>\n",
       "      <td>Mannelijk</td>\n",
       "      <td>2019-09-04</td>\n",
       "      <td>2019-09-09</td>\n",
       "      <td>252</td>\n",
       "      <td>Monday</td>\n",
       "      <td>-5</td>\n",
       "    </tr>\n",
       "    <tr>\n",
       "      <th>116920</th>\n",
       "      <td>Brugge</td>\n",
       "      <td>Diane</td>\n",
       "      <td>Vrouwelijk</td>\n",
       "      <td>2019-09-20</td>\n",
       "      <td>2019-09-09</td>\n",
       "      <td>252</td>\n",
       "      <td>Monday</td>\n",
       "      <td>11</td>\n",
       "    </tr>\n",
       "    <tr>\n",
       "      <th>116921</th>\n",
       "      <td>Lendelede</td>\n",
       "      <td>Marie-Rose</td>\n",
       "      <td>Vrouwelijk</td>\n",
       "      <td>2019-10-28</td>\n",
       "      <td>2019-09-09</td>\n",
       "      <td>252</td>\n",
       "      <td>Monday</td>\n",
       "      <td>49</td>\n",
       "    </tr>\n",
       "    <tr>\n",
       "      <th>116922</th>\n",
       "      <td>Vilvoorde</td>\n",
       "      <td>Sofia</td>\n",
       "      <td>Vrouwelijk</td>\n",
       "      <td>2019-09-05</td>\n",
       "      <td>2019-09-09</td>\n",
       "      <td>252</td>\n",
       "      <td>Monday</td>\n",
       "      <td>-4</td>\n",
       "    </tr>\n",
       "  </tbody>\n",
       "</table>\n",
       "<p>115393 rows × 8 columns</p>\n",
       "</div>"
      ],
      "text/plain": [
       "                    gemeente        naam    geslacht verwachte datum  \\\n",
       "534                Merksplas     Liliane  Vrouwelijk      2019-01-04   \n",
       "535                   Bornem      Jeroen   Mannelijk      2019-01-10   \n",
       "536     Houthalen-Helchteren      Fatima  Vrouwelijk      2019-01-21   \n",
       "537                 Lievegem     Hilaire   Mannelijk      2019-01-15   \n",
       "538           Spiere-Helkijn   Christian   Mannelijk      2019-01-16   \n",
       "...                      ...         ...         ...             ...   \n",
       "116918                  Lede       Lobke  Vrouwelijk      2019-09-12   \n",
       "116919              Westerlo      Willem   Mannelijk      2019-09-04   \n",
       "116920                Brugge       Diane  Vrouwelijk      2019-09-20   \n",
       "116921             Lendelede  Marie-Rose  Vrouwelijk      2019-10-28   \n",
       "116922             Vilvoorde       Sofia  Vrouwelijk      2019-09-05   \n",
       "\n",
       "            datum  dag van het jaar   weekdag  verschil_dagen  \n",
       "534    2019-01-10                10  Thursday              -6  \n",
       "535    2019-01-10                10  Thursday               0  \n",
       "536    2019-01-10                10  Thursday              11  \n",
       "537    2019-01-10                10  Thursday               5  \n",
       "538    2019-01-10                10  Thursday               6  \n",
       "...           ...               ...       ...             ...  \n",
       "116918 2019-09-09               252    Monday               3  \n",
       "116919 2019-09-09               252    Monday              -5  \n",
       "116920 2019-09-09               252    Monday              11  \n",
       "116921 2019-09-09               252    Monday              49  \n",
       "116922 2019-09-09               252    Monday              -4  \n",
       "\n",
       "[115393 rows x 8 columns]"
      ]
     },
     "execution_count": 39,
     "metadata": {},
     "output_type": "execute_result"
    }
   ],
   "source": [
    "geboortes"
   ]
  },
  {
   "cell_type": "code",
   "execution_count": 42,
   "metadata": {},
   "outputs": [
    {
     "data": {
      "text/plain": [
       "<Axes: ylabel='Frequency'>"
      ]
     },
     "execution_count": 42,
     "metadata": {},
     "output_type": "execute_result"
    },
    {
     "data": {
      "image/png": "[encoded data removed]",
      "text/plain": [
       "<Figure size 640x480 with 1 Axes>"
      ]
     },
     "metadata": {},
     "output_type": "display_data"
    }
   ],
   "source": [
    "geboortes.verschil_dagen.plot(kind = 'hist', bins = 5)"
   ]
  },
  {
   "cell_type": "code",
   "execution_count": 43,
   "metadata": {},
   "outputs": [
    {
     "data": {
      "text/plain": [
       "4.66953223767383"
      ]
     },
     "execution_count": 43,
     "metadata": {},
     "output_type": "execute_result"
    }
   ],
   "source": [
    "# kans dat baby te vroeg of te laat geboren wordt\n",
    "\n",
    "\n"
   ]
  }
 ],
 "metadata": {
  "kernelspec": {
   "display_name": "ds_absyntra",
   "language": "python",
   "name": "python3"
  },
  "language_info": {
   "codemirror_mode": {
    "name": "ipython",
    "version": 3
   },
   "file_extension": ".py",
   "mimetype": "text/x-python",
   "name": "python",
   "nbconvert_exporter": "python",
   "pygments_lexer": "ipython3",
   "version": "3.11.9"
  }
 },
 "nbformat": 4,
 "nbformat_minor": 2
}
